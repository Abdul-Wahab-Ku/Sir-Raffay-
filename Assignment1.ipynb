{
 "cells": [
  {
   "cell_type": "code",
   "execution_count": 2,
   "id": "f1791ce2",
   "metadata": {},
   "outputs": [
    {
     "name": "stdout",
     "output_type": "stream",
     "text": [
      "Input Principle amount 11\n",
      "Input Annual Rate in %1\n",
      "Input number of years1\n",
      "Simple interest is 11.11\n"
     ]
    }
   ],
   "source": [
    "#Q1\n",
    "\n",
    "#CODE\n",
    "principle_ammount = int(input(\"Input Principle amount \"))\n",
    "Annual_rate =       float(input(\"Input Annual Rate in %\"))\n",
    "Number_of_years =    int(input(\"Input number of years\"))\n",
    "\n",
    "simple_interest  = principle_ammount*((1+((Annual_rate/100)*Number_of_years)))\n",
    "print(f'Simple interest is {simple_interest}')\n",
    "\n",
    "\n"
   ]
  },
  {
   "cell_type": "code",
   "execution_count": 5,
   "id": "063c659e",
   "metadata": {},
   "outputs": [
    {
     "name": "stdout",
     "output_type": "stream",
     "text": [
      "Input order amount 2343\n",
      "State::s\n",
      "What is an order amount? 2343\n",
      "What is the state?s\n",
      "The tax is $128.865\n",
      "The total is  ?2471.865\n"
     ]
    }
   ],
   "source": [
    "# Q2\n",
    "#Code\n",
    "ammount = int(input(\"Input order amount \"))\n",
    "state = input(\"State::\")\n",
    "if state == \"WI\" or \"wi\" or \"Wi\" or \"wI\" :\n",
    "    a = (ammount*5.5)/100\n",
    "    print (f'What is an order amount? {ammount}\\nWhat is the state?{state}\\nThe tax is ${a}\\nThe total is  ?{a+ammount}')\n",
    "else:\n",
    "    print (f'What is an order amount? {ammount}\\nWhat is the state?{state}\\nThe total is ${ammount}')"
   ]
  },
  {
   "cell_type": "code",
   "execution_count": 15,
   "id": "32916dd4",
   "metadata": {},
   "outputs": [
    {
     "name": "stdout",
     "output_type": "stream",
     "text": [
      "input your psw::123\n",
      "What is the psw:: 123\n",
      "Welcome!\n"
     ]
    }
   ],
   "source": [
    "#Q3\n",
    "#code\n",
    "psw = input(\"input your psw::\")\n",
    "login = input(\"What is the psw:: \")\n",
    "if login == psw:\n",
    "    print(\"Welcome!\")\n",
    "else:\n",
    "     print(\"Inncorrect Psw  \")\n"
   ]
  },
  {
   "cell_type": "code",
   "execution_count": 12,
   "id": "6e1d636b",
   "metadata": {},
   "outputs": [
    {
     "name": "stdout",
     "output_type": "stream",
     "text": [
      "What is your age:: 12\n",
      "You are not old enough to legally drive!\n"
     ]
    }
   ],
   "source": [
    "#Q4\n",
    "#code\n",
    "age = int(input(\"What is your age:: \"))\n",
    "if age < 16:\n",
    "    print(\"You are not old enough to legally drive!\")\n",
    "else:\n",
    "     print(\"You are old enough to legally drive \")\n"
   ]
  },
  {
   "cell_type": "code",
   "execution_count": null,
   "id": "ca8fab2c",
   "metadata": {},
   "outputs": [],
   "source": []
  }
 ],
 "metadata": {
  "kernelspec": {
   "display_name": "Python 3",
   "language": "python",
   "name": "python3"
  },
  "language_info": {
   "codemirror_mode": {
    "name": "ipython",
    "version": 3
   },
   "file_extension": ".py",
   "mimetype": "text/x-python",
   "name": "python",
   "nbconvert_exporter": "python",
   "pygments_lexer": "ipython3",
   "version": "3.8.8"
  }
 },
 "nbformat": 4,
 "nbformat_minor": 5
}
